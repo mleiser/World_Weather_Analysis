{
 "cells": [
  {
   "cell_type": "code",
   "execution_count": 1,
   "id": "61deb0d0",
   "metadata": {},
   "outputs": [],
   "source": [
    "# Import the random module.\n",
    "import random"
   ]
  },
  {
   "cell_type": "code",
   "execution_count": 2,
   "id": "e674b9a9",
   "metadata": {},
   "outputs": [
    {
     "data": {
      "text/plain": [
       "85"
      ]
     },
     "execution_count": 2,
     "metadata": {},
     "output_type": "execute_result"
    }
   ],
   "source": [
    "random.randint(-90, 90)"
   ]
  },
  {
   "cell_type": "code",
   "execution_count": 3,
   "id": "45a53e5a",
   "metadata": {},
   "outputs": [],
   "source": [
    "x = 1\n",
    "latitudes = []\n",
    "while x < 11:\n",
    "    random_lat = random.randint(-90, 89) + random.random()\n",
    "    latitudes.append(random_lat)\n",
    "    x += 1"
   ]
  },
  {
   "cell_type": "code",
   "execution_count": 4,
   "id": "1f4e9804",
   "metadata": {},
   "outputs": [],
   "source": [
    "# Import the NumPy module.\n",
    "import numpy as np"
   ]
  },
  {
   "cell_type": "code",
   "execution_count": 5,
   "id": "0bfbb9c5",
   "metadata": {},
   "outputs": [
    {
     "data": {
      "text/plain": [
       "array([ 8.80401567e+01,  5.47621266e+01, -8.67980633e+01, -4.09198661e+01,\n",
       "        8.67470128e+01, -7.11131229e+00, -1.72063383e+01, -6.12990426e+01,\n",
       "        1.39810606e+01,  6.02026102e+01,  6.46483945e+01,  7.74710285e+01,\n",
       "        3.55231262e+01, -2.81675418e+01,  2.43533055e+01, -8.17993147e+01,\n",
       "        6.39498915e+01, -5.93000623e+01, -4.86409056e-02, -1.19589772e+01,\n",
       "        1.91814342e+01,  6.49207841e+01,  2.44010417e+01,  1.65344352e+01,\n",
       "        1.33767876e+01, -7.69416192e+00,  5.46315601e+01, -3.89818970e+01,\n",
       "       -1.42531425e+01,  8.06224587e+01, -8.31538407e+01, -6.91338729e+00,\n",
       "       -3.27801492e+00,  1.82014080e+00,  6.26500875e+00, -1.08723839e+01,\n",
       "        5.62146537e+00,  5.06406653e+00,  4.69131589e+01, -1.52205475e+01,\n",
       "        4.41960858e+01,  4.04466731e+01,  3.70812579e+01,  4.78791111e+01,\n",
       "        6.32409054e+00,  1.75717567e+01, -3.71932862e+01,  1.73710347e+01,\n",
       "       -4.61983446e+01, -8.03482396e+01])"
      ]
     },
     "execution_count": 5,
     "metadata": {},
     "output_type": "execute_result"
    }
   ],
   "source": [
    "np.random.uniform(-90.000, 90.000, size=50)"
   ]
  },
  {
   "cell_type": "code",
   "execution_count": 6,
   "id": "f7a819d2",
   "metadata": {},
   "outputs": [],
   "source": [
    "# Import timeit.\n",
    "import timeit"
   ]
  },
  {
   "cell_type": "code",
   "execution_count": 7,
   "id": "9eeebad4",
   "metadata": {},
   "outputs": [
    {
     "name": "stdout",
     "output_type": "stream",
     "text": [
      "16.4 µs ± 687 ns per loop (mean ± std. dev. of 7 runs, 100000 loops each)\n"
     ]
    }
   ],
   "source": [
    "%timeit np.random.uniform(-90.000, 90.000, size=1500)"
   ]
  },
  {
   "cell_type": "code",
   "execution_count": 8,
   "id": "1f2a6dc3",
   "metadata": {},
   "outputs": [
    {
     "name": "stdout",
     "output_type": "stream",
     "text": [
      "1.97 ms ± 61.8 µs per loop (mean ± std. dev. of 7 runs, 1000 loops each)\n"
     ]
    }
   ],
   "source": [
    "def latitudes(size):\n",
    "    latitudes = []\n",
    "    x = 0\n",
    "    while x < (size):\n",
    "        random_lat = random.randint(-90, 90) + random.random()\n",
    "        latitudes.append(random_lat)\n",
    "        x += 1\n",
    "    return latitudes\n",
    "# Call the function with 1500.\n",
    "%timeit latitudes(1500)"
   ]
  },
  {
   "cell_type": "code",
   "execution_count": null,
   "id": "f1b07fcb",
   "metadata": {},
   "outputs": [],
   "source": []
  }
 ],
 "metadata": {
  "kernelspec": {
   "display_name": "Python 3 (ipykernel)",
   "language": "python",
   "name": "python3"
  },
  "language_info": {
   "codemirror_mode": {
    "name": "ipython",
    "version": 3
   },
   "file_extension": ".py",
   "mimetype": "text/x-python",
   "name": "python",
   "nbconvert_exporter": "python",
   "pygments_lexer": "ipython3",
   "version": "3.7.13"
  }
 },
 "nbformat": 4,
 "nbformat_minor": 5
}
